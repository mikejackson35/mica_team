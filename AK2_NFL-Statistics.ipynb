{
 "cells": [
  {
   "cell_type": "code",
   "execution_count": 3,
   "id": "57c92208",
   "metadata": {},
   "outputs": [
    {
     "ename": "ModuleNotFoundError",
     "evalue": "No module named 'api_keys'",
     "output_type": "error",
     "traceback": [
      "\u001b[1;31m---------------------------------------------------------------------------\u001b[0m",
      "\u001b[1;31mModuleNotFoundError\u001b[0m                       Traceback (most recent call last)",
      "\u001b[1;32m~\\AppData\\Local\\Temp/ipykernel_35640/2194506133.py\u001b[0m in \u001b[0;36m<module>\u001b[1;34m\u001b[0m\n\u001b[0;32m     12\u001b[0m \u001b[1;32mfrom\u001b[0m \u001b[0mpprint\u001b[0m \u001b[1;32mimport\u001b[0m \u001b[0mpprint\u001b[0m\u001b[1;33m\u001b[0m\u001b[1;33m\u001b[0m\u001b[0m\n\u001b[0;32m     13\u001b[0m \u001b[0msys\u001b[0m\u001b[1;33m.\u001b[0m\u001b[0mpath\u001b[0m\u001b[1;33m.\u001b[0m\u001b[0mappend\u001b[0m\u001b[1;33m(\u001b[0m\u001b[1;34m'../'\u001b[0m\u001b[1;33m)\u001b[0m\u001b[1;33m\u001b[0m\u001b[1;33m\u001b[0m\u001b[0m\n\u001b[1;32m---> 14\u001b[1;33m \u001b[1;32mfrom\u001b[0m \u001b[0mapi_keys\u001b[0m \u001b[1;32mimport\u001b[0m \u001b[0msportsio_key\u001b[0m\u001b[1;33m\u001b[0m\u001b[1;33m\u001b[0m\u001b[0m\n\u001b[0m\u001b[0;32m     15\u001b[0m \u001b[0mprint\u001b[0m\u001b[1;33m(\u001b[0m\u001b[0msportsio_key\u001b[0m\u001b[1;33m)\u001b[0m\u001b[1;33m\u001b[0m\u001b[1;33m\u001b[0m\u001b[0m\n",
      "\u001b[1;31mModuleNotFoundError\u001b[0m: No module named 'api_keys'"
     ]
    }
   ],
   "source": [
    "# Dependencies and Setup\n",
    "import matplotlib.pyplot as plt\n",
    "import csv\n",
    "import pandas as pd\n",
    "import numpy as np\n",
    "import requests\n",
    "import time\n",
    "import sys\n",
    "import os\n",
    "from scipy.stats import linregress\n",
    "import scipy.stats as st\n",
    "from pprint import pprint\n",
    "sys.path.append('../')\n",
    "from api_keys import sportsio_key\n",
    "print(sportsio_key)"
   ]
  },
  {
   "cell_type": "code",
   "execution_count": 130,
   "id": "ac438738",
   "metadata": {},
   "outputs": [
    {
     "data": {
      "text/html": [
       "<div>\n",
       "<style scoped>\n",
       "    .dataframe tbody tr th:only-of-type {\n",
       "        vertical-align: middle;\n",
       "    }\n",
       "\n",
       "    .dataframe tbody tr th {\n",
       "        vertical-align: top;\n",
       "    }\n",
       "\n",
       "    .dataframe thead th {\n",
       "        text-align: right;\n",
       "    }\n",
       "</style>\n",
       "<table border=\"1\" class=\"dataframe\">\n",
       "  <thead>\n",
       "    <tr style=\"text-align: right;\">\n",
       "      <th></th>\n",
       "      <th>Player</th>\n",
       "      <th>player_year</th>\n",
       "      <th>season_year</th>\n",
       "      <th>Tm_x</th>\n",
       "      <th>Age</th>\n",
       "      <th>G</th>\n",
       "      <th>GS</th>\n",
       "      <th>Wins</th>\n",
       "      <th>Losses</th>\n",
       "      <th>Yds</th>\n",
       "      <th>TD</th>\n",
       "      <th>Y/A</th>\n",
       "      <th>Y/G</th>\n",
       "      <th>Rate</th>\n",
       "      <th>Salary</th>\n",
       "      <th>Rnd</th>\n",
       "      <th>Pick</th>\n",
       "      <th>DrAge</th>\n",
       "      <th>Tm_y</th>\n",
       "      <th>College/Univ</th>\n",
       "    </tr>\n",
       "  </thead>\n",
       "  <tbody>\n",
       "    <tr>\n",
       "      <th>0</th>\n",
       "      <td>A.J. Feeley</td>\n",
       "      <td>1</td>\n",
       "      <td>2001</td>\n",
       "      <td>PHI</td>\n",
       "      <td>24</td>\n",
       "      <td>1</td>\n",
       "      <td>0</td>\n",
       "      <td>0</td>\n",
       "      <td>0</td>\n",
       "      <td>143</td>\n",
       "      <td>2</td>\n",
       "      <td>10.2</td>\n",
       "      <td>143.0</td>\n",
       "      <td>114.0</td>\n",
       "      <td>319325</td>\n",
       "      <td>5</td>\n",
       "      <td>155.0</td>\n",
       "      <td>24.0</td>\n",
       "      <td>PHI</td>\n",
       "      <td>Oregon</td>\n",
       "    </tr>\n",
       "    <tr>\n",
       "      <th>1</th>\n",
       "      <td>A.J. Feeley</td>\n",
       "      <td>2</td>\n",
       "      <td>2002</td>\n",
       "      <td>PHI</td>\n",
       "      <td>25</td>\n",
       "      <td>6</td>\n",
       "      <td>5</td>\n",
       "      <td>4</td>\n",
       "      <td>1</td>\n",
       "      <td>1011</td>\n",
       "      <td>6</td>\n",
       "      <td>6.6</td>\n",
       "      <td>168.5</td>\n",
       "      <td>75.4</td>\n",
       "      <td>389000</td>\n",
       "      <td>5</td>\n",
       "      <td>155.0</td>\n",
       "      <td>24.0</td>\n",
       "      <td>PHI</td>\n",
       "      <td>Oregon</td>\n",
       "    </tr>\n",
       "    <tr>\n",
       "      <th>2</th>\n",
       "      <td>A.J. Feeley</td>\n",
       "      <td>3</td>\n",
       "      <td>2004</td>\n",
       "      <td>MIA</td>\n",
       "      <td>27</td>\n",
       "      <td>11</td>\n",
       "      <td>8</td>\n",
       "      <td>3</td>\n",
       "      <td>5</td>\n",
       "      <td>1893</td>\n",
       "      <td>11</td>\n",
       "      <td>5.3</td>\n",
       "      <td>172.1</td>\n",
       "      <td>61.7</td>\n",
       "      <td>3455000</td>\n",
       "      <td>5</td>\n",
       "      <td>155.0</td>\n",
       "      <td>24.0</td>\n",
       "      <td>PHI</td>\n",
       "      <td>Oregon</td>\n",
       "    </tr>\n",
       "    <tr>\n",
       "      <th>3</th>\n",
       "      <td>A.J. Feeley</td>\n",
       "      <td>4</td>\n",
       "      <td>2006</td>\n",
       "      <td>PHI</td>\n",
       "      <td>29</td>\n",
       "      <td>2</td>\n",
       "      <td>0</td>\n",
       "      <td>0</td>\n",
       "      <td>0</td>\n",
       "      <td>342</td>\n",
       "      <td>3</td>\n",
       "      <td>9.0</td>\n",
       "      <td>171.0</td>\n",
       "      <td>122.9</td>\n",
       "      <td>1540000</td>\n",
       "      <td>5</td>\n",
       "      <td>155.0</td>\n",
       "      <td>24.0</td>\n",
       "      <td>PHI</td>\n",
       "      <td>Oregon</td>\n",
       "    </tr>\n",
       "    <tr>\n",
       "      <th>4</th>\n",
       "      <td>A.J. Feeley</td>\n",
       "      <td>5</td>\n",
       "      <td>2007</td>\n",
       "      <td>PHI</td>\n",
       "      <td>30</td>\n",
       "      <td>3</td>\n",
       "      <td>2</td>\n",
       "      <td>0</td>\n",
       "      <td>2</td>\n",
       "      <td>681</td>\n",
       "      <td>5</td>\n",
       "      <td>6.6</td>\n",
       "      <td>227.0</td>\n",
       "      <td>61.2</td>\n",
       "      <td>190588</td>\n",
       "      <td>5</td>\n",
       "      <td>155.0</td>\n",
       "      <td>24.0</td>\n",
       "      <td>PHI</td>\n",
       "      <td>Oregon</td>\n",
       "    </tr>\n",
       "  </tbody>\n",
       "</table>\n",
       "</div>"
      ],
      "text/plain": [
       "        Player  player_year  season_year Tm_x  Age   G  GS  Wins  Losses  \\\n",
       "0  A.J. Feeley            1         2001  PHI   24   1   0     0       0   \n",
       "1  A.J. Feeley            2         2002  PHI   25   6   5     4       1   \n",
       "2  A.J. Feeley            3         2004  MIA   27  11   8     3       5   \n",
       "3  A.J. Feeley            4         2006  PHI   29   2   0     0       0   \n",
       "4  A.J. Feeley            5         2007  PHI   30   3   2     0       2   \n",
       "\n",
       "    Yds  TD   Y/A    Y/G   Rate   Salary  Rnd   Pick  DrAge Tm_y College/Univ  \n",
       "0   143   2  10.2  143.0  114.0   319325    5  155.0   24.0  PHI       Oregon  \n",
       "1  1011   6   6.6  168.5   75.4   389000    5  155.0   24.0  PHI       Oregon  \n",
       "2  1893  11   5.3  172.1   61.7  3455000    5  155.0   24.0  PHI       Oregon  \n",
       "3   342   3   9.0  171.0  122.9  1540000    5  155.0   24.0  PHI       Oregon  \n",
       "4   681   5   6.6  227.0   61.2   190588    5  155.0   24.0  PHI       Oregon  "
      ]
     },
     "execution_count": 130,
     "metadata": {},
     "output_type": "execute_result"
    }
   ],
   "source": [
    "#Import the files\n",
    "\n",
    "stats_df=pd.read_csv('Resources/raw.csv')\n",
    "static_data=pd.read_csv('Resources/static_data.csv')\n",
    "\n",
    "#merge the static data with yearly data \n",
    "\n",
    "stats_merged_df=pd.merge(stats_df, static_data, on='Player')\n",
    "\n",
    "#Clean up the data by changing to float from int\n",
    "stats_merged_df[\"DrAge\"]=stats_merged_df[\"DrAge\"].astype(float)\n",
    "stats_merged_df[\"Rnd\"]=stats_merged_df[\"Rnd\"].astype(int)\n",
    "stats_merged_df[\"Pick\"]=stats_merged_df[\"Pick\"].astype(float)\n",
    "stats_merged_df.head()"
   ]
  },
  {
   "cell_type": "code",
   "execution_count": 133,
   "id": "8ad8cb67",
   "metadata": {},
   "outputs": [
    {
     "name": "stdout",
     "output_type": "stream",
     "text": [
      "Index(['Player', 'player_year', 'season_year', 'Tm_x', 'Age', 'G', 'GS',\n",
      "       'Wins', 'Losses', 'Yds', 'TD', 'Y/A', 'Y/G', 'Rate', 'Salary', 'Rnd',\n",
      "       'Pick', 'DrAge', 'Tm_y', 'College/Univ'],\n",
      "      dtype='object')\n"
     ]
    },
    {
     "data": {
      "image/png": "[encoded data removed]",
      "text/plain": [
       "<Figure size 432x288 with 1 Axes>"
      ]
     },
     "metadata": {
      "needs_background": "light"
     },
     "output_type": "display_data"
    },
    {
     "data": {
      "text/plain": [
       "Round    5\n",
       "Wins     5\n",
       "dtype: int64"
      ]
     },
     "execution_count": 133,
     "metadata": {},
     "output_type": "execute_result"
    },
    {
     "data": {
      "text/plain": [
       "<Figure size 432x288 with 0 Axes>"
      ]
     },
     "metadata": {},
     "output_type": "display_data"
    }
   ],
   "source": [
    "pprint(stats_merged_df.columns)\n",
    "#Pick the columns we need to analyze\n",
    "stats_merged_df1= stats_merged_df[[\"Player\",\"Tm_x\", \"Wins\",\"Losses\", \"Rate\", \"Salary\",\"Rnd\",\"Pick\",\"DrAge\",\"College/Univ\"]].copy()\n",
    "\n",
    "stats_merged_df1.count()\n",
    "stats_merged_df1.head(10)\n",
    "\n",
    "Round_df=stats_merged_df.loc[stats_merged_df['Rnd'] == 7.0]\n",
    "\n",
    "Player_Group=(Round_df).groupby(\"Player\")\n",
    "#touchdowns=Player_Group[\"TD\"].sum()\n",
    "#Player_stats_DF=pd.DataFrame({})\n",
    "Round_df=pd.DataFrame({\"Round\":Player_Group[\"Rnd\"], \"Wins\":Player_Group[\"Wins\"].mean()})\n",
    "\n",
    "Round_df.sort_values(by=[\"Wins\"], ascending=False).head()\n",
    "\n",
    "Round_df.plot(kind=\"bar\")\n",
    "\n",
    "# Set a title for the chart\n",
    "plt.title(\"NFL QB Statistics drafted in round 7 \")\n",
    "plt.xlabel(\"Player\")\n",
    "plt.ylabel(\"Average Wins per Season\")\n",
    "plt.savefig('Output/Round7 wins .png')\n",
    "plt.show()\n",
    "\n",
    "plt.tight_layout()\n",
    " # df=pd.DataFrame({\"Purchase Count by Player\":Players_Group[\"SN\"].count(),\"Average Purchase Price\":Players_Group[\"Price\"].sum()/Players_Group[\"SN\"].count(), \"Total Purchase Value\":Players_Group[\"Price\"].sum()})\n",
    "\n",
    "#Age_demograohics_df=pd.DataFrame({\"Total Count\":Totals,\"Average Purchase Price\":Average_Purchase_Price, \"Total Purchaase Value\":Totals*Average_Purchase_Price, \"Avg Purchase per Person\":Totals*Average_Purchase_Price/UniqueTotals})\n",
    "#print(Player_Group)\n",
    "#stats_merged_df.head(10)\n",
    "Round_df.count()"
   ]
  },
  {
   "cell_type": "code",
   "execution_count": 134,
   "id": "28e65a97",
   "metadata": {},
   "outputs": [
    {
     "data": {
      "text/html": [
       "<div>\n",
       "<style scoped>\n",
       "    .dataframe tbody tr th:only-of-type {\n",
       "        vertical-align: middle;\n",
       "    }\n",
       "\n",
       "    .dataframe tbody tr th {\n",
       "        vertical-align: top;\n",
       "    }\n",
       "\n",
       "    .dataframe thead th {\n",
       "        text-align: right;\n",
       "    }\n",
       "</style>\n",
       "<table border=\"1\" class=\"dataframe\">\n",
       "  <thead>\n",
       "    <tr style=\"text-align: right;\">\n",
       "      <th></th>\n",
       "      <th>Round</th>\n",
       "      <th>Wins</th>\n",
       "    </tr>\n",
       "    <tr>\n",
       "      <th>Player</th>\n",
       "      <th></th>\n",
       "      <th></th>\n",
       "    </tr>\n",
       "  </thead>\n",
       "  <tbody>\n",
       "    <tr>\n",
       "      <th>Matt Cassel</th>\n",
       "      <td>(Matt Cassel, [7, 7, 7, 7, 7, 7, 7, 7, 7, 7, 7...</td>\n",
       "      <td>2.571429</td>\n",
       "    </tr>\n",
       "    <tr>\n",
       "      <th>Matt Flynn</th>\n",
       "      <td>(Matt Flynn, [7, 7, 7, 7, 7, 7, 7])</td>\n",
       "      <td>0.428571</td>\n",
       "    </tr>\n",
       "    <tr>\n",
       "      <th>Ryan Fitzpatrick</th>\n",
       "      <td>(Ryan Fitzpatrick, [7, 7, 7, 7, 7, 7, 7, 7, 7,...</td>\n",
       "      <td>4.214286</td>\n",
       "    </tr>\n",
       "    <tr>\n",
       "      <th>Trevor Siemian</th>\n",
       "      <td>(Trevor Siemian, [7, 7, 7])</td>\n",
       "      <td>4.333333</td>\n",
       "    </tr>\n",
       "    <tr>\n",
       "      <th>Tyler Thigpen</th>\n",
       "      <td>(Tyler Thigpen, [7, 7, 7, 7, 7, 7])</td>\n",
       "      <td>0.166667</td>\n",
       "    </tr>\n",
       "  </tbody>\n",
       "</table>\n",
       "</div>"
      ],
      "text/plain": [
       "                                                              Round      Wins\n",
       "Player                                                                       \n",
       "Matt Cassel       (Matt Cassel, [7, 7, 7, 7, 7, 7, 7, 7, 7, 7, 7...  2.571429\n",
       "Matt Flynn                      (Matt Flynn, [7, 7, 7, 7, 7, 7, 7])  0.428571\n",
       "Ryan Fitzpatrick  (Ryan Fitzpatrick, [7, 7, 7, 7, 7, 7, 7, 7, 7,...  4.214286\n",
       "Trevor Siemian                          (Trevor Siemian, [7, 7, 7])  4.333333\n",
       "Tyler Thigpen                   (Tyler Thigpen, [7, 7, 7, 7, 7, 7])  0.166667"
      ]
     },
     "execution_count": 134,
     "metadata": {},
     "output_type": "execute_result"
    }
   ],
   "source": [
    "Round_df"
   ]
  },
  {
   "cell_type": "code",
   "execution_count": 135,
   "id": "b95b489a",
   "metadata": {},
   "outputs": [
    {
     "data": {
      "image/png": "[encoded data removed]",
      "text/plain": [
       "<Figure size 432x288 with 1 Axes>"
      ]
     },
     "metadata": {
      "needs_background": "light"
     },
     "output_type": "display_data"
    }
   ],
   "source": [
    "Round_group=stats_merged_df1.groupby(\"Rnd\")\n",
    "\n",
    "Round_df=pd.DataFrame({\"Wins\":Round_group[\"Wins\"].mean()})\n",
    "\n",
    "Round_df.sort_values(by=[\"Rnd\"], ascending=True).head()\n",
    "\n",
    "Round_df.plot(kind=\"bar\")\n",
    "\n",
    "# Set a title for the chart\n",
    "plt.title(\"Average quarterback wins by round drafted \")\n",
    "plt.xlabel(\"Player\")\n",
    "plt.ylabel(\"Average Wins per Season\")\n",
    "plt.savefig('Output/ AverageWins.png')\n",
    "plt.show()"
   ]
  },
  {
   "cell_type": "code",
   "execution_count": null,
   "id": "782071fc",
   "metadata": {},
   "outputs": [],
   "source": []
  },
  {
   "cell_type": "code",
   "execution_count": 136,
   "id": "62c1d66b",
   "metadata": {},
   "outputs": [
    {
     "data": {
      "image/png": "[encoded data removed]",
      "text/plain": [
       "<Figure size 432x288 with 1 Axes>"
      ]
     },
     "metadata": {
      "needs_background": "light"
     },
     "output_type": "display_data"
    }
   ],
   "source": [
    "\n",
    "Round_df=stats_merged_df.loc[stats_merged_df['Rnd'] == 6.0]\n",
    "\n",
    "Player_Group=(Round_df).groupby(\"Player\")\n",
    "#touchdowns=Player_Group[\"TD\"].sum()\n",
    "#Player_stats_DF=pd.DataFrame({})\n",
    "Round_df=pd.DataFrame({ \"Averagee QB Rating\":Player_Group[\"Rate\"].mean()})\n",
    "\n",
    "Round_df.sort_values(by=[\"Player\"], ascending=False).head()\n",
    "\n",
    "Round_df.plot(kind=\"bar\")\n",
    "\n",
    "# Set a title for the chart\n",
    "plt.title(\"NFL QB Rating for round 6 \")\n",
    "plt.xlabel(\"Player\")\n",
    "plt.ylabel(\"Average QB rating\")\n",
    "plt.savefig('Output/QB rating round 6.png')\n",
    "plt.show()\n"
   ]
  },
  {
   "cell_type": "raw",
   "id": "7f4554b8",
   "metadata": {},
   "source": [
    "Round_group=stats_merged_df1.groupby(\"Rnd\")\n",
    "\n",
    "QB_ratingRound_df=pd.DataFrame({\"QB Rating\":Round_group[\"Rate\"].mean()})\n",
    "\n",
    "Round_df.sort_values(by=[\"Rnd\"], ascending=True).head()\n",
    "\n",
    "Round_df.plot(kind=\"bar\")\n",
    "\n",
    "# Set a title for the chart\n",
    "plt.title(\"Average quarterback rating by round drafted \")\n",
    "plt.xlabel(\"Player\")\n",
    "plt.ylabel(\"Average Rating\")\n",
    "plt.savefig('Output/ AverageQBRating.png')\n",
    "plt.show()"
   ]
  },
  {
   "cell_type": "code",
   "execution_count": 137,
   "id": "2fc7466b",
   "metadata": {},
   "outputs": [
    {
     "data": {
      "image/png": "[encoded data removed]",
      "text/plain": [
       "<Figure size 432x288 with 1 Axes>"
      ]
     },
     "metadata": {
      "needs_background": "light"
     },
     "output_type": "display_data"
    }
   ],
   "source": [
    "Round_group=stats_merged_df1.groupby(\"Rnd\")\n",
    "\n",
    "QB_ratingRound_df=pd.DataFrame({\"QB Rating\":Round_group[\"Rate\"].mean()})\n",
    "QB_ratingRound_df.sort_values(by=[\"Rnd\"], ascending=True).head()\n",
    "QB_ratingRound_df.plot(kind=\"bar\")\n",
    "\n",
    "# Set a title for the chart\n",
    "plt.title(\"Average quarterback rating by round drafted \")\n",
    "plt.xlabel(\"Player\")\n",
    "plt.ylabel(\"Average Rating\")\n",
    "plt.savefig('Output/ AverageQBRating.png')\n",
    "plt.show()\n",
    "\n"
   ]
  },
  {
   "cell_type": "code",
   "execution_count": 138,
   "id": "e7d42569",
   "metadata": {},
   "outputs": [
    {
     "data": {
      "text/html": [
       "<div>\n",
       "<style scoped>\n",
       "    .dataframe tbody tr th:only-of-type {\n",
       "        vertical-align: middle;\n",
       "    }\n",
       "\n",
       "    .dataframe tbody tr th {\n",
       "        vertical-align: top;\n",
       "    }\n",
       "\n",
       "    .dataframe thead th {\n",
       "        text-align: right;\n",
       "    }\n",
       "</style>\n",
       "<table border=\"1\" class=\"dataframe\">\n",
       "  <thead>\n",
       "    <tr style=\"text-align: right;\">\n",
       "      <th></th>\n",
       "      <th>Averagee QB Rating</th>\n",
       "    </tr>\n",
       "    <tr>\n",
       "      <th>Player</th>\n",
       "      <th></th>\n",
       "    </tr>\n",
       "  </thead>\n",
       "  <tbody>\n",
       "    <tr>\n",
       "      <th>Brooks Bollinger</th>\n",
       "      <td>72.660000</td>\n",
       "    </tr>\n",
       "    <tr>\n",
       "      <th>Bruce Gradkowski</th>\n",
       "      <td>55.200000</td>\n",
       "    </tr>\n",
       "    <tr>\n",
       "      <th>Curtis Painter</th>\n",
       "      <td>45.800000</td>\n",
       "    </tr>\n",
       "    <tr>\n",
       "      <th>Derek Anderson</th>\n",
       "      <td>70.020000</td>\n",
       "    </tr>\n",
       "    <tr>\n",
       "      <th>J.T. O'Sullivan</th>\n",
       "      <td>56.433333</td>\n",
       "    </tr>\n",
       "    <tr>\n",
       "      <th>Jim Sorgi</th>\n",
       "      <td>88.675000</td>\n",
       "    </tr>\n",
       "    <tr>\n",
       "      <th>Marc Bulger</th>\n",
       "      <td>84.537500</td>\n",
       "    </tr>\n",
       "    <tr>\n",
       "      <th>Ryan Lindley</th>\n",
       "      <td>71.033333</td>\n",
       "    </tr>\n",
       "    <tr>\n",
       "      <th>Tom Brady</th>\n",
       "      <td>92.925000</td>\n",
       "    </tr>\n",
       "    <tr>\n",
       "      <th>Tyrod Taylor</th>\n",
       "      <td>79.922222</td>\n",
       "    </tr>\n",
       "    <tr>\n",
       "      <th>Zach Mettenberger</th>\n",
       "      <td>75.050000</td>\n",
       "    </tr>\n",
       "  </tbody>\n",
       "</table>\n",
       "</div>"
      ],
      "text/plain": [
       "                   Averagee QB Rating\n",
       "Player                               \n",
       "Brooks Bollinger            72.660000\n",
       "Bruce Gradkowski            55.200000\n",
       "Curtis Painter              45.800000\n",
       "Derek Anderson              70.020000\n",
       "J.T. O'Sullivan             56.433333\n",
       "Jim Sorgi                   88.675000\n",
       "Marc Bulger                 84.537500\n",
       "Ryan Lindley                71.033333\n",
       "Tom Brady                   92.925000\n",
       "Tyrod Taylor                79.922222\n",
       "Zach Mettenberger           75.050000"
      ]
     },
     "execution_count": 138,
     "metadata": {},
     "output_type": "execute_result"
    }
   ],
   "source": [
    "Round_df"
   ]
  },
  {
   "cell_type": "code",
   "execution_count": 139,
   "id": "3f1bbd5c",
   "metadata": {},
   "outputs": [
    {
     "data": {
      "image/png": "[encoded data removed]",
      "text/plain": [
       "<Figure size 432x288 with 1 Axes>"
      ]
     },
     "metadata": {
      "needs_background": "light"
     },
     "output_type": "display_data"
    },
    {
     "data": {
      "text/html": [
       "<div>\n",
       "<style scoped>\n",
       "    .dataframe tbody tr th:only-of-type {\n",
       "        vertical-align: middle;\n",
       "    }\n",
       "\n",
       "    .dataframe tbody tr th {\n",
       "        vertical-align: top;\n",
       "    }\n",
       "\n",
       "    .dataframe thead th {\n",
       "        text-align: right;\n",
       "    }\n",
       "</style>\n",
       "<table border=\"1\" class=\"dataframe\">\n",
       "  <thead>\n",
       "    <tr style=\"text-align: right;\">\n",
       "      <th></th>\n",
       "      <th>QB touchdowns</th>\n",
       "    </tr>\n",
       "    <tr>\n",
       "      <th>Rnd</th>\n",
       "      <th></th>\n",
       "    </tr>\n",
       "  </thead>\n",
       "  <tbody>\n",
       "    <tr>\n",
       "      <th>1</th>\n",
       "      <td>15.212418</td>\n",
       "    </tr>\n",
       "    <tr>\n",
       "      <th>2</th>\n",
       "      <td>11.512195</td>\n",
       "    </tr>\n",
       "    <tr>\n",
       "      <th>3</th>\n",
       "      <td>4.741176</td>\n",
       "    </tr>\n",
       "    <tr>\n",
       "      <th>4</th>\n",
       "      <td>5.843137</td>\n",
       "    </tr>\n",
       "    <tr>\n",
       "      <th>5</th>\n",
       "      <td>3.000000</td>\n",
       "    </tr>\n",
       "    <tr>\n",
       "      <th>6</th>\n",
       "      <td>10.837838</td>\n",
       "    </tr>\n",
       "    <tr>\n",
       "      <th>7</th>\n",
       "      <td>8.977273</td>\n",
       "    </tr>\n",
       "  </tbody>\n",
       "</table>\n",
       "</div>"
      ],
      "text/plain": [
       "     QB touchdowns\n",
       "Rnd               \n",
       "1        15.212418\n",
       "2        11.512195\n",
       "3         4.741176\n",
       "4         5.843137\n",
       "5         3.000000\n",
       "6        10.837838\n",
       "7         8.977273"
      ]
     },
     "execution_count": 139,
     "metadata": {},
     "output_type": "execute_result"
    }
   ],
   "source": [
    "Round_group=stats_merged_df.groupby(\"Rnd\")\n",
    "\n",
    "TouchdownRound_df=pd.DataFrame({\"QB touchdowns\":Round_group[\"TD\"].mean()})\n",
    "TouchdownRound_df.sort_values(by=[\"Rnd\"], ascending=True).head()\n",
    "TouchdownRound_df.plot(kind=\"bar\")\n",
    "\n",
    "# Set a title for the chart\n",
    "plt.title(\"Average quarterback TDs by round drafted \")\n",
    "plt.xlabel(\"Round\")\n",
    "plt.ylabel(\"Average TD per season \")\n",
    "plt.savefig('Output/ AverageTD.png')\n",
    "plt.show()\n",
    "TouchdownRound_df"
   ]
  },
  {
   "cell_type": "code",
   "execution_count": 140,
   "id": "1091a2dc",
   "metadata": {},
   "outputs": [
    {
     "data": {
      "image/png": "[encoded data removed]",
      "text/plain": [
       "<Figure size 432x288 with 1 Axes>"
      ]
     },
     "metadata": {
      "needs_background": "light"
     },
     "output_type": "display_data"
    },
    {
     "data": {
      "text/html": [
       "<div>\n",
       "<style scoped>\n",
       "    .dataframe tbody tr th:only-of-type {\n",
       "        vertical-align: middle;\n",
       "    }\n",
       "\n",
       "    .dataframe tbody tr th {\n",
       "        vertical-align: top;\n",
       "    }\n",
       "\n",
       "    .dataframe thead th {\n",
       "        text-align: right;\n",
       "    }\n",
       "</style>\n",
       "<table border=\"1\" class=\"dataframe\">\n",
       "  <thead>\n",
       "    <tr style=\"text-align: right;\">\n",
       "      <th></th>\n",
       "      <th>QB touchdowns</th>\n",
       "    </tr>\n",
       "    <tr>\n",
       "      <th>Rnd</th>\n",
       "      <th></th>\n",
       "    </tr>\n",
       "  </thead>\n",
       "  <tbody>\n",
       "    <tr>\n",
       "      <th>1</th>\n",
       "      <td>2479.029412</td>\n",
       "    </tr>\n",
       "    <tr>\n",
       "      <th>2</th>\n",
       "      <td>1843.841463</td>\n",
       "    </tr>\n",
       "    <tr>\n",
       "      <th>3</th>\n",
       "      <td>917.611765</td>\n",
       "    </tr>\n",
       "    <tr>\n",
       "      <th>4</th>\n",
       "      <td>1053.666667</td>\n",
       "    </tr>\n",
       "    <tr>\n",
       "      <th>5</th>\n",
       "      <td>624.722222</td>\n",
       "    </tr>\n",
       "    <tr>\n",
       "      <th>6</th>\n",
       "      <td>1742.594595</td>\n",
       "    </tr>\n",
       "    <tr>\n",
       "      <th>7</th>\n",
       "      <td>1453.113636</td>\n",
       "    </tr>\n",
       "  </tbody>\n",
       "</table>\n",
       "</div>"
      ],
      "text/plain": [
       "     QB touchdowns\n",
       "Rnd               \n",
       "1      2479.029412\n",
       "2      1843.841463\n",
       "3       917.611765\n",
       "4      1053.666667\n",
       "5       624.722222\n",
       "6      1742.594595\n",
       "7      1453.113636"
      ]
     },
     "execution_count": 140,
     "metadata": {},
     "output_type": "execute_result"
    }
   ],
   "source": [
    "Round_group=stats_merged_df.groupby(\"Rnd\")\n",
    "\n",
    "YardsRound_df=pd.DataFrame({\"QB touchdowns\":Round_group[\"Yds\"].mean()})\n",
    "YardsRound_df.sort_values(by=[\"Rnd\"], ascending=True).head()\n",
    "YardsRound_df.plot(kind=\"bar\")\n",
    "\n",
    "# Set a title for the chart\n",
    "plt.title(\"Average quarterback Yards thrown by round drafted \")\n",
    "plt.xlabel(\"Round\")\n",
    "plt.ylabel(\"Average Yards per season \")\n",
    "plt.savefig('Output/ AverageYDS.png')\n",
    "plt.show()\n",
    "YardsRound_df"
   ]
  },
  {
   "cell_type": "code",
   "execution_count": 141,
   "id": "3da43a46",
   "metadata": {},
   "outputs": [],
   "source": [
    "player_group=stats_merged_df1.groupby(\"Player\")\n",
    "years_played=player_group[\"Player\"].count()\n"
   ]
  },
  {
   "cell_type": "code",
   "execution_count": 142,
   "id": "a68347e2",
   "metadata": {},
   "outputs": [
    {
     "data": {
      "text/html": [
       "<div>\n",
       "<style scoped>\n",
       "    .dataframe tbody tr th:only-of-type {\n",
       "        vertical-align: middle;\n",
       "    }\n",
       "\n",
       "    .dataframe tbody tr th {\n",
       "        vertical-align: top;\n",
       "    }\n",
       "\n",
       "    .dataframe thead tr th {\n",
       "        text-align: left;\n",
       "    }\n",
       "\n",
       "    .dataframe thead tr:last-of-type th {\n",
       "        text-align: right;\n",
       "    }\n",
       "</style>\n",
       "<table border=\"1\" class=\"dataframe\">\n",
       "  <thead>\n",
       "    <tr>\n",
       "      <th></th>\n",
       "      <th colspan=\"8\" halign=\"left\">Wins</th>\n",
       "      <th colspan=\"2\" halign=\"left\">Losses</th>\n",
       "      <th>...</th>\n",
       "      <th colspan=\"2\" halign=\"left\">Pick</th>\n",
       "      <th colspan=\"8\" halign=\"left\">DrAge</th>\n",
       "    </tr>\n",
       "    <tr>\n",
       "      <th></th>\n",
       "      <th>count</th>\n",
       "      <th>mean</th>\n",
       "      <th>std</th>\n",
       "      <th>min</th>\n",
       "      <th>25%</th>\n",
       "      <th>50%</th>\n",
       "      <th>75%</th>\n",
       "      <th>max</th>\n",
       "      <th>count</th>\n",
       "      <th>mean</th>\n",
       "      <th>...</th>\n",
       "      <th>75%</th>\n",
       "      <th>max</th>\n",
       "      <th>count</th>\n",
       "      <th>mean</th>\n",
       "      <th>std</th>\n",
       "      <th>min</th>\n",
       "      <th>25%</th>\n",
       "      <th>50%</th>\n",
       "      <th>75%</th>\n",
       "      <th>max</th>\n",
       "    </tr>\n",
       "    <tr>\n",
       "      <th>Player</th>\n",
       "      <th></th>\n",
       "      <th></th>\n",
       "      <th></th>\n",
       "      <th></th>\n",
       "      <th></th>\n",
       "      <th></th>\n",
       "      <th></th>\n",
       "      <th></th>\n",
       "      <th></th>\n",
       "      <th></th>\n",
       "      <th></th>\n",
       "      <th></th>\n",
       "      <th></th>\n",
       "      <th></th>\n",
       "      <th></th>\n",
       "      <th></th>\n",
       "      <th></th>\n",
       "      <th></th>\n",
       "      <th></th>\n",
       "      <th></th>\n",
       "      <th></th>\n",
       "    </tr>\n",
       "  </thead>\n",
       "  <tbody>\n",
       "    <tr>\n",
       "      <th>A.J. Feeley</th>\n",
       "      <td>6.0</td>\n",
       "      <td>1.333333</td>\n",
       "      <td>1.751190</td>\n",
       "      <td>0.0</td>\n",
       "      <td>0.0</td>\n",
       "      <td>0.5</td>\n",
       "      <td>2.50</td>\n",
       "      <td>4.0</td>\n",
       "      <td>6.0</td>\n",
       "      <td>1.666667</td>\n",
       "      <td>...</td>\n",
       "      <td>155.0</td>\n",
       "      <td>155.0</td>\n",
       "      <td>6.0</td>\n",
       "      <td>24.0</td>\n",
       "      <td>0.0</td>\n",
       "      <td>24.0</td>\n",
       "      <td>24.0</td>\n",
       "      <td>24.0</td>\n",
       "      <td>24.0</td>\n",
       "      <td>24.0</td>\n",
       "    </tr>\n",
       "    <tr>\n",
       "      <th>A.J. McCarron</th>\n",
       "      <td>5.0</td>\n",
       "      <td>0.400000</td>\n",
       "      <td>0.894427</td>\n",
       "      <td>0.0</td>\n",
       "      <td>0.0</td>\n",
       "      <td>0.0</td>\n",
       "      <td>0.00</td>\n",
       "      <td>2.0</td>\n",
       "      <td>5.0</td>\n",
       "      <td>0.400000</td>\n",
       "      <td>...</td>\n",
       "      <td>164.0</td>\n",
       "      <td>164.0</td>\n",
       "      <td>5.0</td>\n",
       "      <td>23.0</td>\n",
       "      <td>0.0</td>\n",
       "      <td>23.0</td>\n",
       "      <td>23.0</td>\n",
       "      <td>23.0</td>\n",
       "      <td>23.0</td>\n",
       "      <td>23.0</td>\n",
       "    </tr>\n",
       "    <tr>\n",
       "      <th>Aaron Rodgers</th>\n",
       "      <td>16.0</td>\n",
       "      <td>7.875000</td>\n",
       "      <td>4.842520</td>\n",
       "      <td>0.0</td>\n",
       "      <td>5.5</td>\n",
       "      <td>10.0</td>\n",
       "      <td>11.25</td>\n",
       "      <td>14.0</td>\n",
       "      <td>16.0</td>\n",
       "      <td>3.937500</td>\n",
       "      <td>...</td>\n",
       "      <td>24.0</td>\n",
       "      <td>24.0</td>\n",
       "      <td>16.0</td>\n",
       "      <td>21.0</td>\n",
       "      <td>0.0</td>\n",
       "      <td>21.0</td>\n",
       "      <td>21.0</td>\n",
       "      <td>21.0</td>\n",
       "      <td>21.0</td>\n",
       "      <td>21.0</td>\n",
       "    </tr>\n",
       "    <tr>\n",
       "      <th>Alex Smith</th>\n",
       "      <td>14.0</td>\n",
       "      <td>7.071429</td>\n",
       "      <td>3.561855</td>\n",
       "      <td>2.0</td>\n",
       "      <td>5.0</td>\n",
       "      <td>6.5</td>\n",
       "      <td>10.50</td>\n",
       "      <td>13.0</td>\n",
       "      <td>14.0</td>\n",
       "      <td>4.785714</td>\n",
       "      <td>...</td>\n",
       "      <td>1.0</td>\n",
       "      <td>1.0</td>\n",
       "      <td>14.0</td>\n",
       "      <td>21.0</td>\n",
       "      <td>0.0</td>\n",
       "      <td>21.0</td>\n",
       "      <td>21.0</td>\n",
       "      <td>21.0</td>\n",
       "      <td>21.0</td>\n",
       "      <td>21.0</td>\n",
       "    </tr>\n",
       "    <tr>\n",
       "      <th>Andrew Luck</th>\n",
       "      <td>6.0</td>\n",
       "      <td>8.833333</td>\n",
       "      <td>3.544949</td>\n",
       "      <td>2.0</td>\n",
       "      <td>8.5</td>\n",
       "      <td>10.5</td>\n",
       "      <td>11.00</td>\n",
       "      <td>11.0</td>\n",
       "      <td>6.0</td>\n",
       "      <td>5.500000</td>\n",
       "      <td>...</td>\n",
       "      <td>1.0</td>\n",
       "      <td>1.0</td>\n",
       "      <td>6.0</td>\n",
       "      <td>22.0</td>\n",
       "      <td>0.0</td>\n",
       "      <td>22.0</td>\n",
       "      <td>22.0</td>\n",
       "      <td>22.0</td>\n",
       "      <td>22.0</td>\n",
       "      <td>22.0</td>\n",
       "    </tr>\n",
       "  </tbody>\n",
       "</table>\n",
       "<p>5 rows × 56 columns</p>\n",
       "</div>"
      ],
      "text/plain": [
       "               Wins                                                  Losses  \\\n",
       "              count      mean       std  min  25%   50%    75%   max  count   \n",
       "Player                                                                        \n",
       "A.J. Feeley     6.0  1.333333  1.751190  0.0  0.0   0.5   2.50   4.0    6.0   \n",
       "A.J. McCarron   5.0  0.400000  0.894427  0.0  0.0   0.0   0.00   2.0    5.0   \n",
       "Aaron Rodgers  16.0  7.875000  4.842520  0.0  5.5  10.0  11.25  14.0   16.0   \n",
       "Alex Smith     14.0  7.071429  3.561855  2.0  5.0   6.5  10.50  13.0   14.0   \n",
       "Andrew Luck     6.0  8.833333  3.544949  2.0  8.5  10.5  11.00  11.0    6.0   \n",
       "\n",
       "                         ...   Pick        DrAge                               \\\n",
       "                   mean  ...    75%    max count  mean  std   min   25%   50%   \n",
       "Player                   ...                                                    \n",
       "A.J. Feeley    1.666667  ...  155.0  155.0   6.0  24.0  0.0  24.0  24.0  24.0   \n",
       "A.J. McCarron  0.400000  ...  164.0  164.0   5.0  23.0  0.0  23.0  23.0  23.0   \n",
       "Aaron Rodgers  3.937500  ...   24.0   24.0  16.0  21.0  0.0  21.0  21.0  21.0   \n",
       "Alex Smith     4.785714  ...    1.0    1.0  14.0  21.0  0.0  21.0  21.0  21.0   \n",
       "Andrew Luck    5.500000  ...    1.0    1.0   6.0  22.0  0.0  22.0  22.0  22.0   \n",
       "\n",
       "                           \n",
       "                75%   max  \n",
       "Player                     \n",
       "A.J. Feeley    24.0  24.0  \n",
       "A.J. McCarron  23.0  23.0  \n",
       "Aaron Rodgers  21.0  21.0  \n",
       "Alex Smith     21.0  21.0  \n",
       "Andrew Luck    22.0  22.0  \n",
       "\n",
       "[5 rows x 56 columns]"
      ]
     },
     "execution_count": 142,
     "metadata": {},
     "output_type": "execute_result"
    }
   ],
   "source": [
    "#Collect Stats per Player\n",
    "player_summary=player_group.describe()\n",
    "#Check the column type\n",
    "player_summary.head()\n",
    "#Next line is to remove limit on number of colujmns or rows to be displayed \n",
    "#pd.set_option(\"display.max_rows\", None, \"display.max_columns\", None)"
   ]
  },
  {
   "cell_type": "code",
   "execution_count": 143,
   "id": "211baf4c",
   "metadata": {},
   "outputs": [
    {
     "data": {
      "image/png": "[encoded data removed]",
      "text/plain": [
       "<Figure size 432x288 with 1 Axes>"
      ]
     },
     "metadata": {
      "needs_background": "light"
     },
     "output_type": "display_data"
    }
   ],
   "source": [
    "plt.scatter(player_summary[\"Rnd\"][\"mean\"],player_summary[\"Wins\"][\"mean\"])\n",
    "plt.title(\"Wins vs. Round pick\")\n",
    "plt.xlabel(\"Round\")\n",
    "ylim=(0, player_summary[\"Wins\"][\"mean\"].max()+1000)\n",
    "plt.ylabel(\"Average Wins per year \")\n",
    "plt.savefig('Output/ SP Wins vs. Round.png')\n",
    "plt.show()"
   ]
  },
  {
   "cell_type": "code",
   "execution_count": 128,
   "id": "38f45388",
   "metadata": {},
   "outputs": [
    {
     "data": {
      "image/png": "[encoded data removed]",
      "text/plain": [
       "<Figure size 432x288 with 1 Axes>"
      ]
     },
     "metadata": {
      "needs_background": "light"
     },
     "output_type": "display_data"
    }
   ],
   "source": [
    "plt.scatter(stats_merged_df['Rnd'], stats_merged_df['TD'])\n",
    "\n",
    "plt.xlabel(\"Round\")\n",
    "plt.ylabel(\"TDs per season\")\n",
    "plt.title('TDs by round drafted')\n",
    "plt.savefig('Output/ SP TDs vs. Round.png')\n",
    "\n",
    "plt.show()"
   ]
  },
  {
   "cell_type": "code",
   "execution_count": 127,
   "id": "d53aaac4",
   "metadata": {},
   "outputs": [
    {
     "data": {
      "image/png": "[encoded data removed]",
      "text/plain": [
       "<Figure size 432x288 with 1 Axes>"
      ]
     },
     "metadata": {
      "needs_background": "light"
     },
     "output_type": "display_data"
    }
   ],
   "source": [
    "plt.scatter(stats_merged_df['Rnd'], stats_merged_df['Yds'])\n",
    "\n",
    "plt.xlabel(\"Round\")\n",
    "plt.ylabel(\"Yds per season\")\n",
    "plt.title('Yds by round drafted')\n",
    "plt.savefig('Output/ SP Yds vs. Round.png')\n",
    "plt.show()"
   ]
  },
  {
   "cell_type": "code",
   "execution_count": 126,
   "id": "0ae5b30c",
   "metadata": {},
   "outputs": [
    {
     "data": {
      "image/png": "[encoded data removed]",
      "text/plain": [
       "<Figure size 432x288 with 1 Axes>"
      ]
     },
     "metadata": {
      "needs_background": "light"
     },
     "output_type": "display_data"
    }
   ],
   "source": [
    "plt.scatter(stats_merged_df['Rnd'], stats_merged_df['Rate'])\n",
    "\n",
    "plt.xlabel(\"Round\")\n",
    "plt.ylabel(\"QB rating\")\n",
    "plt.title('QB rating by round drafted')\n",
    "plt.savefig('Output/ SP QB rating vs. Round.png')\n",
    "plt.show()"
   ]
  },
  {
   "cell_type": "code",
   "execution_count": null,
   "id": "3b248a98",
   "metadata": {},
   "outputs": [],
   "source": []
  },
  {
   "cell_type": "code",
   "execution_count": null,
   "id": "7f0e8313",
   "metadata": {},
   "outputs": [],
   "source": []
  },
  {
   "cell_type": "code",
   "execution_count": null,
   "id": "7bea1474",
   "metadata": {},
   "outputs": [],
   "source": []
  }
 ],
 "metadata": {
  "kernelspec": {
   "display_name": "Python 3 (ipykernel)",
   "language": "python",
   "name": "python3"
  },
  "language_info": {
   "codemirror_mode": {
    "name": "ipython",
    "version": 3
   },
   "file_extension": ".py",
   "mimetype": "text/x-python",
   "name": "python",
   "nbconvert_exporter": "python",
   "pygments_lexer": "ipython3",
   "version": "3.9.7"
  }
 },
 "nbformat": 4,
 "nbformat_minor": 5
}
