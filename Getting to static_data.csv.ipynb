{
 "cells": [
  {
   "cell_type": "code",
   "execution_count": null,
   "id": "87f215f2",
   "metadata": {},
   "outputs": [],
   "source": [
    "### Getting to static_data.csv\n",
    "\n",
    "# Downloading all drafted qb's from sports-reference.com\n",
    "\n",
    "#called new_qb.csv\n",
    "\n",
    "#read in to Jupyter\n",
    "\n",
    "#remove all columns EXCEPT for 'Player', 'Rnd', 'Pick', 'DrAge', 'Tm', 'College/University'\n",
    "\n",
    "#remove players with less than 9 game appearances (G)\n",
    "\n",
    "#88 guys remain\n",
    "\n",
    "#called static_data.csv\n",
    "\n",
    "\n",
    "\n",
    "\n",
    "\n",
    "\n",
    "\n"
   ]
  }
 ],
 "metadata": {
  "kernelspec": {
   "display_name": "Python 3",
   "language": "python",
   "name": "python3"
  },
  "language_info": {
   "codemirror_mode": {
    "name": "ipython",
    "version": 3
   },
   "file_extension": ".py",
   "mimetype": "text/x-python",
   "name": "python",
   "nbconvert_exporter": "python",
   "pygments_lexer": "ipython3",
   "version": "3.8.8"
  }
 },
 "nbformat": 4,
 "nbformat_minor": 5
}
