{
 "cells": [
  {
   "cell_type": "code",
   "execution_count": 4,
   "id": "eed0ede1",
   "metadata": {},
   "outputs": [],
   "source": [
    "import pandas as pd\n",
    "import csv\n",
    "import matplotlib.pyplot as plt\n",
    "import numpy as np\n",
    "import requests\n",
    "import time\n",
    "from scipy.stats import linregress\n",
    "import pprint"
   ]
  },
  {
   "cell_type": "code",
   "execution_count": 39,
   "id": "f3d7dbfa",
   "metadata": {},
   "outputs": [],
   "source": [
    "# This is where I import the common csv files for the group\n",
    "qb_stats_file = \"Resources/static_data.csv\"\n",
    "all_qbs_file= \"Resources/new_qb.csv\"\n",
    "qb_df=pd.read_csv(qb_stats_file)\n",
    "qb_stats_df=pd.read_csv(qb_file)\n",
    "all_qbs_df=pd.read_csv(all_qbs_file)"
   ]
  },
  {
   "cell_type": "code",
   "execution_count": 40,
   "id": "3f3234ee",
   "metadata": {},
   "outputs": [
    {
     "data": {
      "text/html": [
       "<div>\n",
       "<style scoped>\n",
       "    .dataframe tbody tr th:only-of-type {\n",
       "        vertical-align: middle;\n",
       "    }\n",
       "\n",
       "    .dataframe tbody tr th {\n",
       "        vertical-align: top;\n",
       "    }\n",
       "\n",
       "    .dataframe thead th {\n",
       "        text-align: right;\n",
       "    }\n",
       "</style>\n",
       "<table border=\"1\" class=\"dataframe\">\n",
       "  <thead>\n",
       "    <tr style=\"text-align: right;\">\n",
       "      <th></th>\n",
       "      <th>Player</th>\n",
       "      <th>player_year</th>\n",
       "      <th>season_year</th>\n",
       "      <th>Tm</th>\n",
       "      <th>Age</th>\n",
       "      <th>G</th>\n",
       "      <th>GS</th>\n",
       "      <th>Wins</th>\n",
       "      <th>Losses</th>\n",
       "      <th>Yds</th>\n",
       "      <th>TD</th>\n",
       "      <th>Y/A</th>\n",
       "      <th>Y/G</th>\n",
       "      <th>Rate</th>\n",
       "      <th>Salary</th>\n",
       "    </tr>\n",
       "  </thead>\n",
       "  <tbody>\n",
       "    <tr>\n",
       "      <th>0</th>\n",
       "      <td>A.J. Feeley</td>\n",
       "      <td>1</td>\n",
       "      <td>2001</td>\n",
       "      <td>PHI</td>\n",
       "      <td>24</td>\n",
       "      <td>1</td>\n",
       "      <td>0</td>\n",
       "      <td>0</td>\n",
       "      <td>0</td>\n",
       "      <td>143</td>\n",
       "      <td>2</td>\n",
       "      <td>10.2</td>\n",
       "      <td>143.0</td>\n",
       "      <td>114.0</td>\n",
       "      <td>319325</td>\n",
       "    </tr>\n",
       "    <tr>\n",
       "      <th>1</th>\n",
       "      <td>A.J. Feeley</td>\n",
       "      <td>2</td>\n",
       "      <td>2002</td>\n",
       "      <td>PHI</td>\n",
       "      <td>25</td>\n",
       "      <td>6</td>\n",
       "      <td>5</td>\n",
       "      <td>4</td>\n",
       "      <td>1</td>\n",
       "      <td>1011</td>\n",
       "      <td>6</td>\n",
       "      <td>6.6</td>\n",
       "      <td>168.5</td>\n",
       "      <td>75.4</td>\n",
       "      <td>389000</td>\n",
       "    </tr>\n",
       "    <tr>\n",
       "      <th>2</th>\n",
       "      <td>A.J. Feeley</td>\n",
       "      <td>3</td>\n",
       "      <td>2004</td>\n",
       "      <td>MIA</td>\n",
       "      <td>27</td>\n",
       "      <td>11</td>\n",
       "      <td>8</td>\n",
       "      <td>3</td>\n",
       "      <td>5</td>\n",
       "      <td>1893</td>\n",
       "      <td>11</td>\n",
       "      <td>5.3</td>\n",
       "      <td>172.1</td>\n",
       "      <td>61.7</td>\n",
       "      <td>3455000</td>\n",
       "    </tr>\n",
       "    <tr>\n",
       "      <th>3</th>\n",
       "      <td>A.J. Feeley</td>\n",
       "      <td>4</td>\n",
       "      <td>2006</td>\n",
       "      <td>PHI</td>\n",
       "      <td>29</td>\n",
       "      <td>2</td>\n",
       "      <td>0</td>\n",
       "      <td>0</td>\n",
       "      <td>0</td>\n",
       "      <td>342</td>\n",
       "      <td>3</td>\n",
       "      <td>9.0</td>\n",
       "      <td>171.0</td>\n",
       "      <td>122.9</td>\n",
       "      <td>1540000</td>\n",
       "    </tr>\n",
       "    <tr>\n",
       "      <th>4</th>\n",
       "      <td>A.J. Feeley</td>\n",
       "      <td>5</td>\n",
       "      <td>2007</td>\n",
       "      <td>PHI</td>\n",
       "      <td>30</td>\n",
       "      <td>3</td>\n",
       "      <td>2</td>\n",
       "      <td>0</td>\n",
       "      <td>2</td>\n",
       "      <td>681</td>\n",
       "      <td>5</td>\n",
       "      <td>6.6</td>\n",
       "      <td>227.0</td>\n",
       "      <td>61.2</td>\n",
       "      <td>190588</td>\n",
       "    </tr>\n",
       "  </tbody>\n",
       "</table>\n",
       "</div>"
      ],
      "text/plain": [
       "        Player  player_year  season_year   Tm  Age   G  GS  Wins  Losses  \\\n",
       "0  A.J. Feeley            1         2001  PHI   24   1   0     0       0   \n",
       "1  A.J. Feeley            2         2002  PHI   25   6   5     4       1   \n",
       "2  A.J. Feeley            3         2004  MIA   27  11   8     3       5   \n",
       "3  A.J. Feeley            4         2006  PHI   29   2   0     0       0   \n",
       "4  A.J. Feeley            5         2007  PHI   30   3   2     0       2   \n",
       "\n",
       "    Yds  TD   Y/A    Y/G   Rate   Salary  \n",
       "0   143   2  10.2  143.0  114.0   319325  \n",
       "1  1011   6   6.6  168.5   75.4   389000  \n",
       "2  1893  11   5.3  172.1   61.7  3455000  \n",
       "3   342   3   9.0  171.0  122.9  1540000  \n",
       "4   681   5   6.6  227.0   61.2   190588  "
      ]
     },
     "execution_count": 40,
     "metadata": {},
     "output_type": "execute_result"
    }
   ],
   "source": [
    "# This is the head of the QB Statistics\n",
    "qb_stats_df.head()"
   ]
  },
  {
   "cell_type": "code",
   "execution_count": 42,
   "id": "f6182d0c",
   "metadata": {},
   "outputs": [
    {
     "data": {
      "image/png": "[encoded data removed]",
      "text/plain": [
       "<Figure size 432x288 with 1 Axes>"
      ]
     },
     "metadata": {
      "needs_background": "light"
     },
     "output_type": "display_data"
    }
   ],
   "source": [
    "qb_best=qb_stats_df.groupby(qb_stats_df['player_year']).count()\n",
    "x_values=qb_best.index\n",
    "y_values=qb_best['Player']\n",
    "plt.bar(x_values,y_values)\n",
    "plt.title(\"Career Length\")\n",
    "plt.xticks(np.arange(0, 20, step=5))\n",
    "plt.savefig('Output/CC_chart1.png')\n",
    "plt.show()"
   ]
  },
  {
   "cell_type": "code",
   "execution_count": 43,
   "id": "3e7e1d1b",
   "metadata": {},
   "outputs": [
    {
     "data": {
      "text/html": [
       "<div>\n",
       "<style scoped>\n",
       "    .dataframe tbody tr th:only-of-type {\n",
       "        vertical-align: middle;\n",
       "    }\n",
       "\n",
       "    .dataframe tbody tr th {\n",
       "        vertical-align: top;\n",
       "    }\n",
       "\n",
       "    .dataframe thead th {\n",
       "        text-align: right;\n",
       "    }\n",
       "</style>\n",
       "<table border=\"1\" class=\"dataframe\">\n",
       "  <thead>\n",
       "    <tr style=\"text-align: right;\">\n",
       "      <th></th>\n",
       "      <th>Year</th>\n",
       "      <th>Rnd</th>\n",
       "      <th>Pick</th>\n",
       "      <th>Player</th>\n",
       "      <th>Pos</th>\n",
       "      <th>DrAge</th>\n",
       "      <th>Tm</th>\n",
       "      <th>From</th>\n",
       "      <th>To</th>\n",
       "      <th>AP1</th>\n",
       "      <th>PB</th>\n",
       "      <th>St</th>\n",
       "      <th>wAV</th>\n",
       "      <th>G</th>\n",
       "      <th>GS</th>\n",
       "      <th>College/Univ</th>\n",
       "      <th>Unnamed: 16</th>\n",
       "    </tr>\n",
       "  </thead>\n",
       "  <tbody>\n",
       "    <tr>\n",
       "      <th>0</th>\n",
       "      <td>2000</td>\n",
       "      <td>1</td>\n",
       "      <td>18</td>\n",
       "      <td>Chad Pennington</td>\n",
       "      <td>QB</td>\n",
       "      <td>24.0</td>\n",
       "      <td>NYJ</td>\n",
       "      <td>2000.0</td>\n",
       "      <td>2010.0</td>\n",
       "      <td>0</td>\n",
       "      <td>0</td>\n",
       "      <td>5</td>\n",
       "      <td>55.0</td>\n",
       "      <td>89.0</td>\n",
       "      <td>81.0</td>\n",
       "      <td>Marshall</td>\n",
       "      <td>College Stats</td>\n",
       "    </tr>\n",
       "    <tr>\n",
       "      <th>1</th>\n",
       "      <td>2000</td>\n",
       "      <td>3</td>\n",
       "      <td>65</td>\n",
       "      <td>Giovanni Carmazzi</td>\n",
       "      <td>QB</td>\n",
       "      <td>NaN</td>\n",
       "      <td>SFO</td>\n",
       "      <td>NaN</td>\n",
       "      <td>NaN</td>\n",
       "      <td>0</td>\n",
       "      <td>0</td>\n",
       "      <td>0</td>\n",
       "      <td>NaN</td>\n",
       "      <td>NaN</td>\n",
       "      <td>NaN</td>\n",
       "      <td>Hofstra</td>\n",
       "      <td>NaN</td>\n",
       "    </tr>\n",
       "    <tr>\n",
       "      <th>2</th>\n",
       "      <td>2000</td>\n",
       "      <td>3</td>\n",
       "      <td>75</td>\n",
       "      <td>Chris Redman</td>\n",
       "      <td>QB</td>\n",
       "      <td>23.0</td>\n",
       "      <td>BAL</td>\n",
       "      <td>2000.0</td>\n",
       "      <td>2011.0</td>\n",
       "      <td>0</td>\n",
       "      <td>0</td>\n",
       "      <td>0</td>\n",
       "      <td>9.0</td>\n",
       "      <td>31.0</td>\n",
       "      <td>12.0</td>\n",
       "      <td>Louisville</td>\n",
       "      <td>College Stats</td>\n",
       "    </tr>\n",
       "    <tr>\n",
       "      <th>3</th>\n",
       "      <td>2000</td>\n",
       "      <td>5</td>\n",
       "      <td>163</td>\n",
       "      <td>Tee Martin</td>\n",
       "      <td>QB</td>\n",
       "      <td>22.0</td>\n",
       "      <td>PIT</td>\n",
       "      <td>2001.0</td>\n",
       "      <td>2003.0</td>\n",
       "      <td>0</td>\n",
       "      <td>0</td>\n",
       "      <td>0</td>\n",
       "      <td>0.0</td>\n",
       "      <td>3.0</td>\n",
       "      <td>0.0</td>\n",
       "      <td>Tennessee</td>\n",
       "      <td>College Stats</td>\n",
       "    </tr>\n",
       "    <tr>\n",
       "      <th>4</th>\n",
       "      <td>2000</td>\n",
       "      <td>6</td>\n",
       "      <td>168</td>\n",
       "      <td>Marc Bulger</td>\n",
       "      <td>QB</td>\n",
       "      <td>23.0</td>\n",
       "      <td>NOR</td>\n",
       "      <td>2002.0</td>\n",
       "      <td>2009.0</td>\n",
       "      <td>0</td>\n",
       "      <td>2</td>\n",
       "      <td>8</td>\n",
       "      <td>57.0</td>\n",
       "      <td>96.0</td>\n",
       "      <td>95.0</td>\n",
       "      <td>West Virginia</td>\n",
       "      <td>College Stats</td>\n",
       "    </tr>\n",
       "    <tr>\n",
       "      <th>...</th>\n",
       "      <td>...</td>\n",
       "      <td>...</td>\n",
       "      <td>...</td>\n",
       "      <td>...</td>\n",
       "      <td>...</td>\n",
       "      <td>...</td>\n",
       "      <td>...</td>\n",
       "      <td>...</td>\n",
       "      <td>...</td>\n",
       "      <td>...</td>\n",
       "      <td>...</td>\n",
       "      <td>...</td>\n",
       "      <td>...</td>\n",
       "      <td>...</td>\n",
       "      <td>...</td>\n",
       "      <td>...</td>\n",
       "      <td>...</td>\n",
       "    </tr>\n",
       "    <tr>\n",
       "      <th>193</th>\n",
       "      <td>2015</td>\n",
       "      <td>3</td>\n",
       "      <td>75</td>\n",
       "      <td>Garrett Grayson</td>\n",
       "      <td>QB</td>\n",
       "      <td>24.0</td>\n",
       "      <td>NOR</td>\n",
       "      <td>2015.0</td>\n",
       "      <td>2015.0</td>\n",
       "      <td>0</td>\n",
       "      <td>0</td>\n",
       "      <td>0</td>\n",
       "      <td>0.0</td>\n",
       "      <td>1.0</td>\n",
       "      <td>0.0</td>\n",
       "      <td>Colorado St.</td>\n",
       "      <td>College Stats</td>\n",
       "    </tr>\n",
       "    <tr>\n",
       "      <th>194</th>\n",
       "      <td>2015</td>\n",
       "      <td>3</td>\n",
       "      <td>89</td>\n",
       "      <td>Sean Mannion</td>\n",
       "      <td>QB</td>\n",
       "      <td>23.0</td>\n",
       "      <td>STL</td>\n",
       "      <td>2015.0</td>\n",
       "      <td>2021.0</td>\n",
       "      <td>0</td>\n",
       "      <td>0</td>\n",
       "      <td>0</td>\n",
       "      <td>2.0</td>\n",
       "      <td>14.0</td>\n",
       "      <td>3.0</td>\n",
       "      <td>Oregon St.</td>\n",
       "      <td>College Stats</td>\n",
       "    </tr>\n",
       "    <tr>\n",
       "      <th>195</th>\n",
       "      <td>2015</td>\n",
       "      <td>4</td>\n",
       "      <td>103</td>\n",
       "      <td>Bryce Petty</td>\n",
       "      <td>QB</td>\n",
       "      <td>24.0</td>\n",
       "      <td>NYJ</td>\n",
       "      <td>2016.0</td>\n",
       "      <td>2017.0</td>\n",
       "      <td>0</td>\n",
       "      <td>0</td>\n",
       "      <td>0</td>\n",
       "      <td>4.0</td>\n",
       "      <td>10.0</td>\n",
       "      <td>7.0</td>\n",
       "      <td>Baylor</td>\n",
       "      <td>College Stats</td>\n",
       "    </tr>\n",
       "    <tr>\n",
       "      <th>196</th>\n",
       "      <td>2015</td>\n",
       "      <td>5</td>\n",
       "      <td>147</td>\n",
       "      <td>Brett Hundley</td>\n",
       "      <td>QB</td>\n",
       "      <td>22.0</td>\n",
       "      <td>GNB</td>\n",
       "      <td>2016.0</td>\n",
       "      <td>2019.0</td>\n",
       "      <td>0</td>\n",
       "      <td>0</td>\n",
       "      <td>1</td>\n",
       "      <td>5.0</td>\n",
       "      <td>18.0</td>\n",
       "      <td>9.0</td>\n",
       "      <td>UCLA</td>\n",
       "      <td>College Stats</td>\n",
       "    </tr>\n",
       "    <tr>\n",
       "      <th>197</th>\n",
       "      <td>2015</td>\n",
       "      <td>7</td>\n",
       "      <td>250</td>\n",
       "      <td>Trevor Siemian</td>\n",
       "      <td>QB</td>\n",
       "      <td>23.0</td>\n",
       "      <td>DEN</td>\n",
       "      <td>2015.0</td>\n",
       "      <td>2021.0</td>\n",
       "      <td>0</td>\n",
       "      <td>0</td>\n",
       "      <td>2</td>\n",
       "      <td>16.0</td>\n",
       "      <td>33.0</td>\n",
       "      <td>29.0</td>\n",
       "      <td>Northwestern</td>\n",
       "      <td>College Stats</td>\n",
       "    </tr>\n",
       "  </tbody>\n",
       "</table>\n",
       "<p>198 rows × 17 columns</p>\n",
       "</div>"
      ],
      "text/plain": [
       "     Year  Rnd  Pick             Player Pos  DrAge   Tm    From      To  AP1  \\\n",
       "0    2000    1    18    Chad Pennington  QB   24.0  NYJ  2000.0  2010.0    0   \n",
       "1    2000    3    65  Giovanni Carmazzi  QB    NaN  SFO     NaN     NaN    0   \n",
       "2    2000    3    75       Chris Redman  QB   23.0  BAL  2000.0  2011.0    0   \n",
       "3    2000    5   163         Tee Martin  QB   22.0  PIT  2001.0  2003.0    0   \n",
       "4    2000    6   168        Marc Bulger  QB   23.0  NOR  2002.0  2009.0    0   \n",
       "..    ...  ...   ...                ...  ..    ...  ...     ...     ...  ...   \n",
       "193  2015    3    75    Garrett Grayson  QB   24.0  NOR  2015.0  2015.0    0   \n",
       "194  2015    3    89       Sean Mannion  QB   23.0  STL  2015.0  2021.0    0   \n",
       "195  2015    4   103        Bryce Petty  QB   24.0  NYJ  2016.0  2017.0    0   \n",
       "196  2015    5   147      Brett Hundley  QB   22.0  GNB  2016.0  2019.0    0   \n",
       "197  2015    7   250     Trevor Siemian  QB   23.0  DEN  2015.0  2021.0    0   \n",
       "\n",
       "     PB  St   wAV     G    GS   College/Univ    Unnamed: 16  \n",
       "0     0   5  55.0  89.0  81.0       Marshall  College Stats  \n",
       "1     0   0   NaN   NaN   NaN        Hofstra            NaN  \n",
       "2     0   0   9.0  31.0  12.0     Louisville  College Stats  \n",
       "3     0   0   0.0   3.0   0.0      Tennessee  College Stats  \n",
       "4     2   8  57.0  96.0  95.0  West Virginia  College Stats  \n",
       "..   ..  ..   ...   ...   ...            ...            ...  \n",
       "193   0   0   0.0   1.0   0.0   Colorado St.  College Stats  \n",
       "194   0   0   2.0  14.0   3.0     Oregon St.  College Stats  \n",
       "195   0   0   4.0  10.0   7.0         Baylor  College Stats  \n",
       "196   0   1   5.0  18.0   9.0           UCLA  College Stats  \n",
       "197   0   2  16.0  33.0  29.0   Northwestern  College Stats  \n",
       "\n",
       "[198 rows x 17 columns]"
      ]
     },
     "execution_count": 43,
     "metadata": {},
     "output_type": "execute_result"
    }
   ],
   "source": [
    "# Get total number of QBs drafted from 2000 to 2015\n",
    "all_qbs_df"
   ]
  },
  {
   "cell_type": "code",
   "execution_count": 10,
   "id": "70bf0b8d",
   "metadata": {},
   "outputs": [],
   "source": [
    "#Graph the number drafted and group by round\n",
    "all_qb_by_round=all_qbs_df.groupby([\"Rnd\"]).count()\n"
   ]
  },
  {
   "cell_type": "code",
   "execution_count": 11,
   "id": "f8cc4434",
   "metadata": {},
   "outputs": [
    {
     "data": {
      "text/plain": [
       "Text(0, 0.5, 'Total QBs')"
      ]
     },
     "execution_count": 11,
     "metadata": {},
     "output_type": "execute_result"
    },
    {
     "data": {
      "image/png": "[encoded data removed]",
      "text/plain": [
       "<Figure size 432x288 with 1 Axes>"
      ]
     },
     "metadata": {
      "needs_background": "light"
     },
     "output_type": "display_data"
    }
   ],
   "source": [
    "Round=all_qb_by_round.index\n",
    "Total_per_round=all_qb_by_round['Year']\n",
    "plt.bar(Round,Total_per_round)\n",
    "plt.title('Total QBs Drafted by Round')\n",
    "plt.xlabel('Rounds')\n",
    "plt.ylabel('Total QBs')"
   ]
  },
  {
   "cell_type": "code",
   "execution_count": 13,
   "id": "5e5c9b0d",
   "metadata": {},
   "outputs": [
    {
     "data": {
      "text/plain": [
       "Text(0, 0.5, 'Percentage of QBs')"
      ]
     },
     "execution_count": 13,
     "metadata": {},
     "output_type": "execute_result"
    },
    {
     "data": {
      "image/png": "[encoded data removed]",
      "text/plain": [
       "<Figure size 432x288 with 1 Axes>"
      ]
     },
     "metadata": {
      "needs_background": "light"
     },
     "output_type": "display_data"
    }
   ],
   "source": [
    "# get % of where QBs drafted\n",
    "Round=all_qb_by_round.index\n",
    "total_picks=all_qb_by_round['Year'].sum()\n",
    "total_picks\n",
    "Perc_by_round=round(all_qb_by_round['Year']/total_picks,2)\n",
    "Perc_by_round=Perc_by_round*100\n",
    "plt.bar(Round,Perc_by_round)\n",
    "plt.title('Percentage of QBs Drafted by Round')\n",
    "plt.xlabel('Rounds')\n",
    "plt.ylabel('Percentage of QBs')\n"
   ]
  },
  {
   "cell_type": "code",
   "execution_count": 31,
   "id": "25496ab6",
   "metadata": {},
   "outputs": [
    {
     "data": {
      "text/plain": [
       "42"
      ]
     },
     "execution_count": 31,
     "metadata": {},
     "output_type": "execute_result"
    }
   ],
   "source": [
    "#Fill in all the NaN values with a 0\n",
    "all_qb_df=all_qbs_df.fillna(0)\n",
    "#Create DataFrame to get QBs who never played in a game\n",
    "never_appeared=all_qb_df.loc[all_qb_df['G']==0,:]\n"
   ]
  },
  {
   "cell_type": "code",
   "execution_count": 16,
   "id": "833e75cb",
   "metadata": {},
   "outputs": [
    {
     "data": {
      "text/plain": [
       "Text(0.5, 0, 'Rounds')"
      ]
     },
     "execution_count": 16,
     "metadata": {},
     "output_type": "execute_result"
    },
    {
     "data": {
      "image/png": "[encoded data removed]",
      "text/plain": [
       "<Figure size 432x288 with 1 Axes>"
      ]
     },
     "metadata": {},
     "output_type": "display_data"
    }
   ],
   "source": [
    "#Pie plot the QBs appeared vs never appeared percentage\n",
    "Round=all_qb_by_round.index\n",
    "total_picks=len(all_qb_df.index)\n",
    "never=len(never_appeared.index)\n",
    "played=total_picks-never\n",
    "sizes=[played,never]\n",
    "labels=['Played in NFL Game','Never Appeared in NFL Game']\n",
    "explode = (0, 0.1,) \n",
    "plt.pie(sizes, labels=labels,explode=explode,shadow=True,autopct='%1.1f%%',startangle=40)\n",
    "plt.title('QBs Drafted by Round')\n",
    "plt.xlabel('Rounds')\n"
   ]
  },
  {
   "cell_type": "code",
   "execution_count": 48,
   "id": "7ecf094b",
   "metadata": {},
   "outputs": [
    {
     "data": {
      "text/plain": [
       "Text(0.5, 0, 'Rounds')"
      ]
     },
     "execution_count": 48,
     "metadata": {},
     "output_type": "execute_result"
    },
    {
     "data": {
      "image/png": "[encoded data removed]",
      "text/plain": [
       "<Figure size 432x288 with 1 Axes>"
      ]
     },
     "metadata": {},
     "output_type": "display_data"
    }
   ],
   "source": [
    "#Create DataFrame to get QBs who never played in a game or played less than 9\n",
    "never_appeared=all_qb_df.loc[all_qb_df['G']==0,:]\n",
    "non_minimum_played=all_qb_df.loc[(all_qb_df['G']>0)&(all_qb_df['G']<9)]\n",
    "#Pie plot the QBs appeared vs never appeared percentage\n",
    "Round=all_qb_by_round.index\n",
    "total_picks=len(all_qb_df.index)\n",
    "not_enough=len(non_minimum_played.index)\n",
    "never=len(never_appeared.index)\n",
    "played=total_picks-(never+not_enough)\n",
    "sizes=[played,never,not_enough]\n",
    "labels=['Played in NFL Game','Never Appeared in NFL Game','Less than 9 games']\n",
    "explode = (0, 0.1,0.1) \n",
    "plt.pie(sizes, labels=labels,explode=explode,shadow=True,autopct='%1.1f%%',startangle=40)\n",
    "plt.title('QBs Drafted by Round')\n",
    "plt.xlabel('Rounds')"
   ]
  },
  {
   "cell_type": "code",
   "execution_count": 68,
   "id": "35f82a82",
   "metadata": {},
   "outputs": [
    {
     "data": {
      "text/plain": [
       "Text(0.5, 0, 'Rounds')"
      ]
     },
     "execution_count": 68,
     "metadata": {},
     "output_type": "execute_result"
    },
    {
     "data": {
      "image/png": "[encoded data removed]",
      "text/plain": [
       "<Figure size 432x288 with 1 Axes>"
      ]
     },
     "metadata": {},
     "output_type": "display_data"
    }
   ],
   "source": [
    "#minimum_played\n",
    "criteria=all_qb_df.loc[all_qb_df['G']>=9]\n",
    "#remove non-QBs and no salary info manually in Excel\n",
    "criteria.to_csv('117.csv',index=False) #output\n",
    "final88=\"final88.csv\"\n",
    "final88_df=pd.read_csv(final88)\n",
    "#Replot the pie chart for final data set\n",
    "final=len(final88_df)\n",
    "not_enough=len(non_minimum_played.index)\n",
    "never=len(never_appeared.index)\n",
    "played=total_picks-(never+not_enough+non_measurable)\n",
    "non_measurable=len(criteria)-final\n",
    "sizes=[played,never,not_enough,non_measurable]\n",
    "labels=['Final Data Set','Never Appeared in NFL Game','Less than 9 games','Non Measurable']\n",
    "explode = (0, 0.1,0.1,0.1) \n",
    "plt.pie(sizes, labels=labels,explode=explode,shadow=True,autopct='%1.1f%%',startangle=40)\n",
    "plt.title('QBs Drafted by Round')\n",
    "plt.xlabel('Rounds')\n"
   ]
  }
 ],
 "metadata": {
  "kernelspec": {
   "display_name": "Python 3 (ipykernel)",
   "language": "python",
   "name": "python3"
  },
  "language_info": {
   "codemirror_mode": {
    "name": "ipython",
    "version": 3
   },
   "file_extension": ".py",
   "mimetype": "text/x-python",
   "name": "python",
   "nbconvert_exporter": "python",
   "pygments_lexer": "ipython3",
   "version": "3.9.7"
  }
 },
 "nbformat": 4,
 "nbformat_minor": 5
}
